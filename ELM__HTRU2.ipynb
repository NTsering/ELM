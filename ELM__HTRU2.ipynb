{
  "nbformat": 4,
  "nbformat_minor": 0,
  "metadata": {
    "colab": {
      "name": "ELM_ HTRU2.ipynb",
      "provenance": [],
      "authorship_tag": "ABX9TyONkg8NIGp9hgAgLMC4bFC1",
      "include_colab_link": true
    },
    "kernelspec": {
      "name": "python3",
      "display_name": "Python 3"
    },
    "accelerator": "GPU"
  },
  "cells": [
    {
      "cell_type": "markdown",
      "metadata": {
        "id": "view-in-github",
        "colab_type": "text"
      },
      "source": [
        "<a href=\"https://colab.research.google.com/github/NTsering/ELM/blob/master/ELM__HTRU2.ipynb\" target=\"_parent\"><img src=\"https://colab.research.google.com/assets/colab-badge.svg\" alt=\"Open In Colab\"/></a>"
      ]
    },
    {
      "cell_type": "code",
      "metadata": {
        "id": "17bUqItjx2DY",
        "colab_type": "code",
        "outputId": "c4e50022-1ebf-4d0b-d950-2be6bb2002ea",
        "colab": {
          "base_uri": "https://localhost:8080/",
          "height": 204
        }
      },
      "source": [
        "import pandas as pd\n",
        "import numpy as np\n",
        "\n",
        "# train = pd.read_csv(\"/content/drive/My Drive/DeepLearning/DataSet/HCV-Egy-Data/HCV-Egy-Data.csv\")\n",
        "dataset = pd.read_csv('/content/HTRU_2.csv', header=None)\n",
        "dataset.head()"
      ],
      "execution_count": 0,
      "outputs": [
        {
          "output_type": "execute_result",
          "data": {
            "text/html": [
              "<div>\n",
              "<style scoped>\n",
              "    .dataframe tbody tr th:only-of-type {\n",
              "        vertical-align: middle;\n",
              "    }\n",
              "\n",
              "    .dataframe tbody tr th {\n",
              "        vertical-align: top;\n",
              "    }\n",
              "\n",
              "    .dataframe thead th {\n",
              "        text-align: right;\n",
              "    }\n",
              "</style>\n",
              "<table border=\"1\" class=\"dataframe\">\n",
              "  <thead>\n",
              "    <tr style=\"text-align: right;\">\n",
              "      <th></th>\n",
              "      <th>0</th>\n",
              "      <th>1</th>\n",
              "      <th>2</th>\n",
              "      <th>3</th>\n",
              "      <th>4</th>\n",
              "      <th>5</th>\n",
              "      <th>6</th>\n",
              "      <th>7</th>\n",
              "      <th>8</th>\n",
              "    </tr>\n",
              "  </thead>\n",
              "  <tbody>\n",
              "    <tr>\n",
              "      <th>0</th>\n",
              "      <td>140.562500</td>\n",
              "      <td>55.683782</td>\n",
              "      <td>-0.234571</td>\n",
              "      <td>-0.699648</td>\n",
              "      <td>3.199833</td>\n",
              "      <td>19.110426</td>\n",
              "      <td>7.975532</td>\n",
              "      <td>74.242225</td>\n",
              "      <td>0</td>\n",
              "    </tr>\n",
              "    <tr>\n",
              "      <th>1</th>\n",
              "      <td>102.507812</td>\n",
              "      <td>58.882430</td>\n",
              "      <td>0.465318</td>\n",
              "      <td>-0.515088</td>\n",
              "      <td>1.677258</td>\n",
              "      <td>14.860146</td>\n",
              "      <td>10.576487</td>\n",
              "      <td>127.393580</td>\n",
              "      <td>0</td>\n",
              "    </tr>\n",
              "    <tr>\n",
              "      <th>2</th>\n",
              "      <td>103.015625</td>\n",
              "      <td>39.341649</td>\n",
              "      <td>0.323328</td>\n",
              "      <td>1.051164</td>\n",
              "      <td>3.121237</td>\n",
              "      <td>21.744669</td>\n",
              "      <td>7.735822</td>\n",
              "      <td>63.171909</td>\n",
              "      <td>0</td>\n",
              "    </tr>\n",
              "    <tr>\n",
              "      <th>3</th>\n",
              "      <td>136.750000</td>\n",
              "      <td>57.178449</td>\n",
              "      <td>-0.068415</td>\n",
              "      <td>-0.636238</td>\n",
              "      <td>3.642977</td>\n",
              "      <td>20.959280</td>\n",
              "      <td>6.896499</td>\n",
              "      <td>53.593661</td>\n",
              "      <td>0</td>\n",
              "    </tr>\n",
              "    <tr>\n",
              "      <th>4</th>\n",
              "      <td>88.726562</td>\n",
              "      <td>40.672225</td>\n",
              "      <td>0.600866</td>\n",
              "      <td>1.123492</td>\n",
              "      <td>1.178930</td>\n",
              "      <td>11.468720</td>\n",
              "      <td>14.269573</td>\n",
              "      <td>252.567306</td>\n",
              "      <td>0</td>\n",
              "    </tr>\n",
              "  </tbody>\n",
              "</table>\n",
              "</div>"
            ],
            "text/plain": [
              "            0          1         2  ...          6           7  8\n",
              "0  140.562500  55.683782 -0.234571  ...   7.975532   74.242225  0\n",
              "1  102.507812  58.882430  0.465318  ...  10.576487  127.393580  0\n",
              "2  103.015625  39.341649  0.323328  ...   7.735822   63.171909  0\n",
              "3  136.750000  57.178449 -0.068415  ...   6.896499   53.593661  0\n",
              "4   88.726562  40.672225  0.600866  ...  14.269573  252.567306  0\n",
              "\n",
              "[5 rows x 9 columns]"
            ]
          },
          "metadata": {
            "tags": []
          },
          "execution_count": 1
        }
      ]
    },
    {
      "cell_type": "code",
      "metadata": {
        "id": "jJI_7v1wzDeJ",
        "colab_type": "code",
        "outputId": "4fbea705-0b1a-45d2-d901-2c631de54c1f",
        "colab": {
          "base_uri": "https://localhost:8080/",
          "height": 34
        }
      },
      "source": [
        "dataset.shape"
      ],
      "execution_count": 0,
      "outputs": [
        {
          "output_type": "execute_result",
          "data": {
            "text/plain": [
              "(17898, 9)"
            ]
          },
          "metadata": {
            "tags": []
          },
          "execution_count": 2
        }
      ]
    },
    {
      "cell_type": "code",
      "metadata": {
        "id": "DvdDb2m3k2DF",
        "colab_type": "code",
        "colab": {}
      },
      "source": [
        "features = dataset.iloc[:, :8].values.astype('float32')\n",
        "labels = dataset.iloc[:, 8].values.astype('int32')"
      ],
      "execution_count": 0,
      "outputs": []
    },
    {
      "cell_type": "code",
      "metadata": {
        "id": "KMpEDVC5y2x8",
        "colab_type": "code",
        "outputId": "66a4a770-94b7-441a-ef89-fa1104713cd4",
        "colab": {
          "base_uri": "https://localhost:8080/",
          "height": 34
        }
      },
      "source": [
        "features.shape"
      ],
      "execution_count": 0,
      "outputs": [
        {
          "output_type": "execute_result",
          "data": {
            "text/plain": [
              "(17898, 8)"
            ]
          },
          "metadata": {
            "tags": []
          },
          "execution_count": 4
        }
      ]
    },
    {
      "cell_type": "code",
      "metadata": {
        "id": "-dhtlcdnDla8",
        "colab_type": "code",
        "colab": {}
      },
      "source": [
        " features =(features-features.min())/(features.max()-features.min())"
      ],
      "execution_count": 0,
      "outputs": []
    },
    {
      "cell_type": "code",
      "metadata": {
        "id": "BXYOp8Jmy6U3",
        "colab_type": "code",
        "outputId": "bfb36e4b-2780-4987-ba96-87539c0932f8",
        "colab": {
          "base_uri": "https://localhost:8080/",
          "height": 34
        }
      },
      "source": [
        "labels.shape"
      ],
      "execution_count": 0,
      "outputs": [
        {
          "output_type": "execute_result",
          "data": {
            "text/plain": [
              "(17898,)"
            ]
          },
          "metadata": {
            "tags": []
          },
          "execution_count": 6
        }
      ]
    },
    {
      "cell_type": "code",
      "metadata": {
        "id": "QSnmrGeKy8z7",
        "colab_type": "code",
        "outputId": "989db579-2916-402f-f0a3-103deb07c06b",
        "colab": {
          "base_uri": "https://localhost:8080/",
          "height": 34
        }
      },
      "source": [
        "# import keras\n",
        "CLASSES = 2\n",
        "# y_train = keras.utils.to_categorical(labels, CLASSES)\n",
        "targets = np.zeros([labels.shape[0], CLASSES])\n",
        "targets.shape"
      ],
      "execution_count": 0,
      "outputs": [
        {
          "output_type": "execute_result",
          "data": {
            "text/plain": [
              "(17898, 2)"
            ]
          },
          "metadata": {
            "tags": []
          },
          "execution_count": 7
        }
      ]
    },
    {
      "cell_type": "code",
      "metadata": {
        "id": "5nTI6rT10mct",
        "colab_type": "code",
        "outputId": "e7fa4bbb-6e09-40c4-8be7-d4f9039e201d",
        "colab": {
          "base_uri": "https://localhost:8080/",
          "height": 34
        }
      },
      "source": [
        "# One hot representation \n",
        "for i in range(labels.shape[0]):\n",
        "  targets[i][labels[i]] = 1\n",
        "\n",
        "targets.shape"
      ],
      "execution_count": 0,
      "outputs": [
        {
          "output_type": "execute_result",
          "data": {
            "text/plain": [
              "(17898, 2)"
            ]
          },
          "metadata": {
            "tags": []
          },
          "execution_count": 8
        }
      ]
    },
    {
      "cell_type": "code",
      "metadata": {
        "id": "LEnZXACXz-MX",
        "colab_type": "code",
        "outputId": "2ec93bee-0bc4-4b8b-e02f-fcf0e8cf3c2b",
        "colab": {
          "base_uri": "https://localhost:8080/",
          "height": 34
        }
      },
      "source": [
        "from sklearn.model_selection import train_test_split\n",
        "\n",
        "x_train, x_test, y_train, y_test = train_test_split(features, targets, test_size=0.30, stratify = targets)\n",
        "print('Train size: {train}, Test size: {test}'.format(train=x_train.shape[0], test=x_test.shape[0]))"
      ],
      "execution_count": 0,
      "outputs": [
        {
          "output_type": "stream",
          "text": [
            "Train size: 12528, Test size: 5370\n"
          ],
          "name": "stdout"
        }
      ]
    },
    {
      "cell_type": "code",
      "metadata": {
        "id": "ZBbNeuniyWFh",
        "colab_type": "code",
        "outputId": "b41f5687-b34b-4a15-9c0f-8f7ab0b4142b",
        "colab": {
          "base_uri": "https://localhost:8080/",
          "height": 34
        }
      },
      "source": [
        "features[0].size"
      ],
      "execution_count": 0,
      "outputs": [
        {
          "output_type": "execute_result",
          "data": {
            "text/plain": [
              "8"
            ]
          },
          "metadata": {
            "tags": []
          },
          "execution_count": 11
        }
      ]
    },
    {
      "cell_type": "code",
      "metadata": {
        "id": "dzqvKWFO1JvF",
        "colab_type": "code",
        "outputId": "8a7f660f-c164-4642-fd5b-fb8c2078060b",
        "colab": {
          "base_uri": "https://localhost:8080/",
          "height": 51
        }
      },
      "source": [
        "INPUT_NEURON = features[0].size \n",
        "HIDDEN_NEURON = 150\n",
        "np.random.seed(2)\n",
        "W_in = np.random.normal(size=[INPUT_NEURON, HIDDEN_NEURON])\n",
        "B_in = np.random.normal(size=[HIDDEN_NEURON])\n",
        "print('Shape of Input weight: ',W_in.shape)\n",
        "print('Shape of Input bias: ',B_in.shape)"
      ],
      "execution_count": 0,
      "outputs": [
        {
          "output_type": "stream",
          "text": [
            "Shape of Input weight:  (8, 150)\n",
            "Shape of Input bias:  (150,)\n"
          ],
          "name": "stdout"
        }
      ]
    },
    {
      "cell_type": "code",
      "metadata": {
        "id": "wAelJirjBSA7",
        "colab_type": "code",
        "colab": {}
      },
      "source": [
        "def sigmoid(x):\n",
        "  return 1 / (1 + np.exp(-x))\n",
        "def relu(x):\n",
        "  return np.maximum(x, 0, x) \n",
        "def hyperbolicTangent(x):\n",
        "  return np.tanh(x)"
      ],
      "execution_count": 0,
      "outputs": []
    },
    {
      "cell_type": "code",
      "metadata": {
        "id": "CQTcYahl9gNs",
        "colab_type": "code",
        "colab": {}
      },
      "source": [
        "def single_hidden_layer(x, activation):\n",
        "  z = np.dot(x, W_in) + B_in\n",
        "  print(z.shape, \" Activation Func:\", activation)\n",
        "  if activation == 'sigmoid':\n",
        "    return sigmoid(z)\n",
        "  elif activation == 'relu':\n",
        "    return relu(z)\n",
        "  elif activation == 'hypertan':\n",
        "    return hyperbolicTangent(z)\n",
        "  elif activation == 'sine':\n",
        "    return np.sin(z)"
      ],
      "execution_count": 0,
      "outputs": []
    },
    {
      "cell_type": "code",
      "metadata": {
        "id": "fU-WmERb2ABp",
        "colab_type": "code",
        "outputId": "4b1c71b4-b668-479d-85fe-3ccead90ec62",
        "colab": {
          "base_uri": "https://localhost:8080/",
          "height": 85
        }
      },
      "source": [
        "H = single_hidden_layer(x_train, 'sigmoid')\n",
        "print('H: ', H.shape)\n",
        "H_i = np.linalg.pinv(H)\n",
        "print('H_i: ',H_i.shape)\n",
        "B = np.dot(H_i, y_train)\n",
        "print('B: ', B.shape)"
      ],
      "execution_count": 0,
      "outputs": [
        {
          "output_type": "stream",
          "text": [
            "(12528, 150)  Activation Func: sigmoid\n",
            "H:  (12528, 150)\n",
            "H_i:  (150, 12528)\n",
            "B:  (150, 2)\n"
          ],
          "name": "stdout"
        }
      ]
    },
    {
      "cell_type": "code",
      "metadata": {
        "id": "t3UlF_D9AmJC",
        "colab_type": "code",
        "colab": {}
      },
      "source": [
        "def predict(x):\n",
        "    h = single_hidden_layer(x, 'sigmoid')\n",
        "    y = np.dot(h, B)\n",
        "    return y"
      ],
      "execution_count": 0,
      "outputs": []
    },
    {
      "cell_type": "code",
      "metadata": {
        "id": "BEcXacPvzkGm",
        "colab_type": "code",
        "outputId": "6afd44ca-0c3a-4b57-ed61-5e2843a96f88",
        "colab": {
          "base_uri": "https://localhost:8080/",
          "height": 34
        }
      },
      "source": [
        "x_test.shape"
      ],
      "execution_count": 0,
      "outputs": [
        {
          "output_type": "execute_result",
          "data": {
            "text/plain": [
              "(5370, 8)"
            ]
          },
          "metadata": {
            "tags": []
          },
          "execution_count": 22
        }
      ]
    },
    {
      "cell_type": "code",
      "metadata": {
        "id": "JXKUXUqmE1fg",
        "colab_type": "code",
        "outputId": "d004dc6d-19e8-418c-c1bd-1394d5f22ce7",
        "colab": {
          "base_uri": "https://localhost:8080/",
          "height": 51
        }
      },
      "source": [
        "y = predict(x_test)\n",
        "correct = 0\n",
        "total = y.shape[0]\n",
        "for i in range(total):\n",
        "    predicted = np.argmax(y[i])\n",
        "    test = np.argmax(y_test[i])\n",
        "    correct = correct + (1 if predicted == test else 0)\n",
        "print('Accuracy: {:.3f}'.format( 100*(correct/total)))"
      ],
      "execution_count": 0,
      "outputs": [
        {
          "output_type": "stream",
          "text": [
            "(5370, 150)  Activation Func: sigmoid\n",
            "Accuracy: 97.952\n"
          ],
          "name": "stdout"
        }
      ]
    },
    {
      "cell_type": "code",
      "metadata": {
        "id": "6Dlfe7p-S5VZ",
        "colab_type": "code",
        "colab": {}
      },
      "source": [
        ""
      ],
      "execution_count": 0,
      "outputs": []
    }
  ]
}